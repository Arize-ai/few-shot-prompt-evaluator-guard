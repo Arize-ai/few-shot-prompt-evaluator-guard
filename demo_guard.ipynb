{
 "cells": [
  {
   "cell_type": "markdown",
   "metadata": {},
   "source": [
    "# Imports and installations"
   ]
  },
  {
   "cell_type": "code",
   "execution_count": 1,
   "metadata": {},
   "outputs": [],
   "source": [
    "import pandas as pd\n",
    "import logging\n",
    "import json\n",
    "import time\n",
    "import os\n",
    "from getpass import getpass\n",
    "\n",
    "from nemoguardrails import LLMRails, RailsConfig"
   ]
  },
  {
   "cell_type": "code",
   "execution_count": 2,
   "metadata": {},
   "outputs": [
    {
     "name": "stdout",
     "output_type": "stream",
     "text": [
      "🔑 Enter your OpenAI API key: ········\n"
     ]
    }
   ],
   "source": [
    "os.environ[\"OPENAI_API_KEY\"] = getpass(\"🔑 Enter your OpenAI API key: \")"
   ]
  },
  {
   "cell_type": "code",
   "execution_count": 3,
   "metadata": {},
   "outputs": [],
   "source": [
    "logging.basicConfig()\n",
    "logging.getLogger().setLevel(logging.WARN)"
   ]
  },
  {
   "cell_type": "markdown",
   "metadata": {},
   "source": [
    "# Instrumentation"
   ]
  },
  {
   "cell_type": "code",
   "execution_count": 4,
   "metadata": {},
   "outputs": [
    {
     "name": "stdout",
     "output_type": "stream",
     "text": [
      "Collecting git+https://github.com/Arize-ai/openinference/@nemo#subdirectory=python/instrumentation/openinference-instrumentation-nemo-guardrails/\n",
      "  Cloning https://github.com/Arize-ai/openinference/ (to revision nemo) to /private/var/folders/rj/076x1by56wn8qvbncwq6jszh0000gn/T/pip-req-build-26ew2kqb\n",
      "  Running command git clone --filter=blob:none --quiet https://github.com/Arize-ai/openinference/ /private/var/folders/rj/076x1by56wn8qvbncwq6jszh0000gn/T/pip-req-build-26ew2kqb\n",
      "  Running command git checkout -b nemo --track origin/nemo\n",
      "  Switched to a new branch 'nemo'\n",
      "  branch 'nemo' set up to track 'origin/nemo'.\n",
      "  Resolved https://github.com/Arize-ai/openinference/ to commit c50fb225ae261989b259e6ef89dec8b1359c0f17\n",
      "  Installing build dependencies ... \u001b[?25ldone\n",
      "\u001b[?25h  Getting requirements to build wheel ... \u001b[?25ldone\n",
      "\u001b[?25h  Preparing metadata (pyproject.toml) ... \u001b[?25ldone\n",
      "\u001b[?25hRequirement already satisfied: openinference-instrumentation>=0.1.7 in /Users/harrisonchu/anaconda3/envs/nemo-demo-2/lib/python3.12/site-packages (from openinference-instrumentation-nemo-guardrails==0.1.0) (0.1.18)\n",
      "Requirement already satisfied: openinference-semantic-conventions in /Users/harrisonchu/anaconda3/envs/nemo-demo-2/lib/python3.12/site-packages (from openinference-instrumentation-nemo-guardrails==0.1.0) (0.1.11)\n",
      "Requirement already satisfied: opentelemetry-api in /Users/harrisonchu/anaconda3/envs/nemo-demo-2/lib/python3.12/site-packages (from openinference-instrumentation-nemo-guardrails==0.1.0) (1.27.0)\n",
      "Requirement already satisfied: opentelemetry-instrumentation in /Users/harrisonchu/anaconda3/envs/nemo-demo-2/lib/python3.12/site-packages (from openinference-instrumentation-nemo-guardrails==0.1.0) (0.48b0)\n",
      "Requirement already satisfied: opentelemetry-semantic-conventions in /Users/harrisonchu/anaconda3/envs/nemo-demo-2/lib/python3.12/site-packages (from openinference-instrumentation-nemo-guardrails==0.1.0) (0.48b0)\n",
      "Requirement already satisfied: typing-extensions in /Users/harrisonchu/anaconda3/envs/nemo-demo-2/lib/python3.12/site-packages (from openinference-instrumentation-nemo-guardrails==0.1.0) (4.12.2)\n",
      "Requirement already satisfied: wrapt in /Users/harrisonchu/anaconda3/envs/nemo-demo-2/lib/python3.12/site-packages (from openinference-instrumentation-nemo-guardrails==0.1.0) (1.16.0)\n",
      "Requirement already satisfied: opentelemetry-sdk in /Users/harrisonchu/anaconda3/envs/nemo-demo-2/lib/python3.12/site-packages (from openinference-instrumentation>=0.1.7->openinference-instrumentation-nemo-guardrails==0.1.0) (1.27.0)\n",
      "Requirement already satisfied: deprecated>=1.2.6 in /Users/harrisonchu/anaconda3/envs/nemo-demo-2/lib/python3.12/site-packages (from opentelemetry-api->openinference-instrumentation-nemo-guardrails==0.1.0) (1.2.14)\n",
      "Requirement already satisfied: importlib-metadata<=8.4.0,>=6.0 in /Users/harrisonchu/anaconda3/envs/nemo-demo-2/lib/python3.12/site-packages (from opentelemetry-api->openinference-instrumentation-nemo-guardrails==0.1.0) (8.4.0)\n",
      "Requirement already satisfied: setuptools>=16.0 in /Users/harrisonchu/anaconda3/envs/nemo-demo-2/lib/python3.12/site-packages (from opentelemetry-instrumentation->openinference-instrumentation-nemo-guardrails==0.1.0) (75.1.0)\n",
      "Requirement already satisfied: zipp>=0.5 in /Users/harrisonchu/anaconda3/envs/nemo-demo-2/lib/python3.12/site-packages (from importlib-metadata<=8.4.0,>=6.0->opentelemetry-api->openinference-instrumentation-nemo-guardrails==0.1.0) (3.20.2)\n"
     ]
    }
   ],
   "source": [
    "!pip install git+https://github.com/Arize-ai/openinference/@nemo#subdirectory=python/instrumentation/openinference-instrumentation-nemo-guardrails/"
   ]
  },
  {
   "cell_type": "code",
   "execution_count": 5,
   "metadata": {},
   "outputs": [
    {
     "name": "stderr",
     "output_type": "stream",
     "text": [
      "/Users/harrisonchu/anaconda3/envs/nemo-demo-2/lib/python3.12/site-packages/tqdm/auto.py:21: TqdmWarning: IProgress not found. Please update jupyter and ipywidgets. See https://ipywidgets.readthedocs.io/en/stable/user_install.html\n",
      "  from .autonotebook import tqdm as notebook_tqdm\n"
     ]
    },
    {
     "name": "stdout",
     "output_type": "stream",
     "text": [
      "🌍 To view the Phoenix app in your browser, visit http://localhost:6006/\n",
      "📖 For more information on how to use Phoenix, check out https://docs.arize.com/phoenix\n",
      "Successfully wrapped function: nemoguardrails.actions.action_dispatcher.ActionDispatcher.execute_action\n"
     ]
    }
   ],
   "source": [
    "import phoenix as px\n",
    "px.launch_app()\n",
    "\n",
    "from opentelemetry import trace as trace_api\n",
    "from opentelemetry import trace\n",
    "from opentelemetry.sdk.trace import TracerProvider\n",
    "from opentelemetry.sdk.trace.export import BatchSpanProcessor\n",
    "\n",
    "from openinference.instrumentation.openai import OpenAIInstrumentor\n",
    "from openinference.instrumentation.nemo_guardrails import NemoGuardrailsInstrumentor\n",
    "from opentelemetry.exporter.otlp.proto.http.trace_exporter import OTLPSpanExporter\n",
    "from opentelemetry.sdk.trace.export import ConsoleSpanExporter, SimpleSpanProcessor\n",
    "\n",
    "endpoint = \"http://127.0.0.1:6006/v1/traces\"\n",
    "trace_provider = TracerProvider()\n",
    "trace_provider.add_span_processor(SimpleSpanProcessor(OTLPSpanExporter(endpoint)))\n",
    "trace_api.set_tracer_provider(trace_provider)\n",
    "NemoGuardrailsInstrumentor().instrument(skip_dep_check=True)\n",
    "OpenAIInstrumentor().instrument()"
   ]
  },
  {
   "cell_type": "markdown",
   "metadata": {},
   "source": [
    "# Load Jailbreak and Regular Prompt Datasets"
   ]
  },
  {
   "cell_type": "code",
   "execution_count": 6,
   "metadata": {},
   "outputs": [],
   "source": [
    "# Jailbreak prompts sourced from \"Do Anything Now\" dataset (described in paper on arxiv) https://github.com/verazuo/jailbreak_llms\n",
    "JAILBREAK_DATASET_FILEPATH = \"./jailbreak_prompts_2023_05_07.csv\"\n",
    "# Sourced from HuggingFace dataset https://huggingface.co/datasets/MohamedRashad/ChatGPT-prompts\n",
    "VANILLA_PROMPTS_DATASET_FILEPATH = \"./regular_prompts.json\"\n",
    "NUM_EVAL_EXAMPLES = 500\n",
    "NUM_EVAL_EXAMPLES = 500\n",
    "NUM_FEW_SHOT_EXAMPLES = 10\n",
    "MODEL = \"gpt-4o-mini\""
   ]
  },
  {
   "cell_type": "code",
   "execution_count": 7,
   "metadata": {},
   "outputs": [],
   "source": [
    "def split_dataset(sources):\n",
    "    train_prompts = sources[:NUM_FEW_SHOT_EXAMPLES]\n",
    "    test_prompts = sources[NUM_FEW_SHOT_EXAMPLES:NUM_FEW_SHOT_EXAMPLES + NUM_EVAL_EXAMPLES]\n",
    "    return train_prompts[\"prompt\"].tolist(), test_prompts[\"prompt\"].tolist()"
   ]
  },
  {
   "cell_type": "code",
   "execution_count": 8,
   "metadata": {},
   "outputs": [],
   "source": [
    "# Jailbreak prompts that we expect to Fail the Guard\n",
    "sources = pd.read_csv(JAILBREAK_DATASET_FILEPATH)\n",
    "jailbreak_train_prompts, jailbreak_test_prompts = split_dataset(sources)"
   ]
  },
  {
   "cell_type": "code",
   "execution_count": 9,
   "metadata": {},
   "outputs": [],
   "source": [
    "with open(VANILLA_PROMPTS_DATASET_FILEPATH, 'r') as f:\n",
    "    vanilla_prompts = json.loads(f.read())\n",
    "    vanilla_prompts = vanilla_prompts[:NUM_EVAL_EXAMPLES]"
   ]
  },
  {
   "cell_type": "markdown",
   "metadata": {},
   "source": [
    "# Load NeMo Guards from Configs"
   ]
  },
  {
   "cell_type": "code",
   "execution_count": 10,
   "metadata": {},
   "outputs": [
    {
     "name": "stderr",
     "output_type": "stream",
     "text": [
      "WARNING: All log messages before absl::InitializeLog() is called are written to STDERR\n",
      "I0000 00:00:1730230202.187088 16886270 fork_posix.cc:77] Other threads are currently calling into gRPC, skipping fork() handlers\n",
      "Fetching 5 files: 100%|███████████████████████████████████████████████████████████████████████████████████████████████████████████████████████████████████████████████████████████████████████████████████████████| 5/5 [00:00<00:00, 55480.21it/s]\n"
     ]
    }
   ],
   "source": [
    "default_nemo_rails = LLMRails(RailsConfig.from_path(\"./default_jailbreak_guard\"))"
   ]
  },
  {
   "cell_type": "code",
   "execution_count": 11,
   "metadata": {},
   "outputs": [
    {
     "ename": "ModuleNotFoundError",
     "evalue": "No module named 'arize'",
     "output_type": "error",
     "traceback": [
      "\u001b[0;31m---------------------------------------------------------------------------\u001b[0m",
      "\u001b[0;31mModuleNotFoundError\u001b[0m                       Traceback (most recent call last)",
      "Cell \u001b[0;32mIn[11], line 1\u001b[0m\n\u001b[0;32m----> 1\u001b[0m arize_embeddings_rails \u001b[38;5;241m=\u001b[39m \u001b[43mLLMRails\u001b[49m\u001b[43m(\u001b[49m\u001b[43mRailsConfig\u001b[49m\u001b[38;5;241;43m.\u001b[39;49m\u001b[43mfrom_path\u001b[49m\u001b[43m(\u001b[49m\u001b[38;5;124;43m\"\u001b[39;49m\u001b[38;5;124;43m./dataset_guard_config\u001b[39;49m\u001b[38;5;124;43m\"\u001b[39;49m\u001b[43m)\u001b[49m\u001b[43m)\u001b[49m\n",
      "File \u001b[0;32m~/anaconda3/envs/nemo-demo-2/lib/python3.12/site-packages/nemoguardrails/rails/llm/llmrails.py:183\u001b[0m, in \u001b[0;36mLLMRails.__init__\u001b[0;34m(self, config, llm, verbose)\u001b[0m\n\u001b[1;32m    181\u001b[0m             spec \u001b[38;5;241m=\u001b[39m importlib\u001b[38;5;241m.\u001b[39mutil\u001b[38;5;241m.\u001b[39mspec_from_file_location(filename, filepath)\n\u001b[1;32m    182\u001b[0m             config_module \u001b[38;5;241m=\u001b[39m importlib\u001b[38;5;241m.\u001b[39mutil\u001b[38;5;241m.\u001b[39mmodule_from_spec(spec)\n\u001b[0;32m--> 183\u001b[0m             \u001b[43mspec\u001b[49m\u001b[38;5;241;43m.\u001b[39;49m\u001b[43mloader\u001b[49m\u001b[38;5;241;43m.\u001b[39;49m\u001b[43mexec_module\u001b[49m\u001b[43m(\u001b[49m\u001b[43mconfig_module\u001b[49m\u001b[43m)\u001b[49m\n\u001b[1;32m    184\u001b[0m             config_modules\u001b[38;5;241m.\u001b[39mappend(config_module)\n\u001b[1;32m    186\u001b[0m \u001b[38;5;66;03m# First, we initialize the runtime.\u001b[39;00m\n",
      "File \u001b[0;32m<frozen importlib._bootstrap_external>:995\u001b[0m, in \u001b[0;36mexec_module\u001b[0;34m(self, module)\u001b[0m\n",
      "File \u001b[0;32m<frozen importlib._bootstrap>:488\u001b[0m, in \u001b[0;36m_call_with_frames_removed\u001b[0;34m(f, *args, **kwds)\u001b[0m\n",
      "File \u001b[0;32m~/src/few-shot-prompt-evaluator-guard/dataset_guard_config/config.py:12\u001b[0m\n\u001b[1;32m     10\u001b[0m \u001b[38;5;28;01mfrom\u001b[39;00m \u001b[38;5;21;01mgetpass\u001b[39;00m \u001b[38;5;28;01mimport\u001b[39;00m getpass\n\u001b[1;32m     11\u001b[0m \u001b[38;5;28;01mfrom\u001b[39;00m \u001b[38;5;21;01mdataset_guard_config\u001b[39;00m\u001b[38;5;21;01m.\u001b[39;00m\u001b[38;5;21;01mdataset\u001b[39;00m \u001b[38;5;28;01mimport\u001b[39;00m DEFAULT_FEW_SHOT_TRAIN_PROMPTS\n\u001b[0;32m---> 12\u001b[0m \u001b[38;5;28;01mfrom\u001b[39;00m \u001b[38;5;21;01marize\u001b[39;00m\u001b[38;5;21;01m.\u001b[39;00m\u001b[38;5;21;01mexperimental\u001b[39;00m\u001b[38;5;21;01m.\u001b[39;00m\u001b[38;5;21;01mdatasets\u001b[39;00m \u001b[38;5;28;01mimport\u001b[39;00m ArizeDatasetsClient\n\u001b[1;32m     15\u001b[0m CHUNK_STRATEGY \u001b[38;5;241m=\u001b[39m \u001b[38;5;124m\"\u001b[39m\u001b[38;5;124msentence\u001b[39m\u001b[38;5;124m\"\u001b[39m\n\u001b[1;32m     16\u001b[0m CHUNK_SIZE \u001b[38;5;241m=\u001b[39m \u001b[38;5;241m100\u001b[39m\n",
      "\u001b[0;31mModuleNotFoundError\u001b[0m: No module named 'arize'"
     ]
    }
   ],
   "source": [
    "arize_embeddings_rails = LLMRails(RailsConfig.from_path(\"./dataset_guard_config\"))"
   ]
  },
  {
   "cell_type": "markdown",
   "metadata": {},
   "source": [
    "# Load Sample Jailbreak Prompt"
   ]
  },
  {
   "cell_type": "code",
   "execution_count": null,
   "metadata": {},
   "outputs": [],
   "source": [
    "sample_jailbreak_prompt = jailbreak_test_prompts[116]\n",
    "sample_jailbreak_prompt"
   ]
  },
  {
   "cell_type": "markdown",
   "metadata": {},
   "source": [
    "# Run Off-the-Shelf NeMo Guard"
   ]
  },
  {
   "cell_type": "code",
   "execution_count": null,
   "metadata": {},
   "outputs": [],
   "source": [
    "start_time = time.perf_counter()\n",
    "default_nemo_response = await default_nemo_rails.generate_async(messages=[{\n",
    "    \"role\": \"user\",\n",
    "    \"content\": sample_jailbreak_prompt\n",
    "}])\n",
    "default_nemo_latency = time.perf_counter() - start_time"
   ]
  },
  {
   "cell_type": "code",
   "execution_count": null,
   "metadata": {},
   "outputs": [],
   "source": [
    "default_nemo_response"
   ]
  },
  {
   "cell_type": "code",
   "execution_count": null,
   "metadata": {},
   "outputs": [],
   "source": [
    "default_nemo_latency"
   ]
  },
  {
   "cell_type": "markdown",
   "metadata": {},
   "source": [
    "# Run Arize Dataset Embeddings NeMo Guard "
   ]
  },
  {
   "cell_type": "code",
   "execution_count": null,
   "metadata": {},
   "outputs": [],
   "source": [
    "start_time = time.perf_counter()\n",
    "arize_embeddings_nemo_response = await arize_embeddings_rails.generate_async(messages=[{\n",
    "    \"role\": \"user\",\n",
    "    \"content\": sample_jailbreak_prompt\n",
    "}])\n",
    "arize_embeddings_nemo_latency = time.perf_counter() - start_time"
   ]
  },
  {
   "cell_type": "code",
   "execution_count": null,
   "metadata": {},
   "outputs": [],
   "source": [
    "arize_embeddings_nemo_response"
   ]
  },
  {
   "cell_type": "code",
   "execution_count": null,
   "metadata": {},
   "outputs": [],
   "source": [
    "arize_embeddings_nemo_latency"
   ]
  },
  {
   "cell_type": "code",
   "execution_count": null,
   "metadata": {},
   "outputs": [],
   "source": []
  }
 ],
 "metadata": {
  "kernelspec": {
   "display_name": "Python 3 (ipykernel)",
   "language": "python",
   "name": "python3"
  },
  "language_info": {
   "codemirror_mode": {
    "name": "ipython",
    "version": 3
   },
   "file_extension": ".py",
   "mimetype": "text/x-python",
   "name": "python",
   "nbconvert_exporter": "python",
   "pygments_lexer": "ipython3",
   "version": "3.12.7"
  }
 },
 "nbformat": 4,
 "nbformat_minor": 4
}
